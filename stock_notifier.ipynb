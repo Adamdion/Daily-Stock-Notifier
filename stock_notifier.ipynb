{
 "cells": [
  {
   "cell_type": "markdown",
   "metadata": {},
   "source": [
    "# Daily Stock Notifier Code \n",
    "This notebook uses yfinance which pulls stock data from yahoo finance. It allows users to enter the stocks they are inteterested in by chaning the list to the ticker symbolys of their intrest. After running it pops up with a terminal notification of the live stock prices the user is interested in.\n",
    "\n",
    "This can be automated by turning it into a python script then turing it into a .app file using mac automator. With this app you can then make a calander event with the action being that it calls the script and it will run whenever that time is hit on your calander. More details on my github."
   ]
  },
  {
   "cell_type": "code",
   "execution_count": 6,
   "metadata": {},
   "outputs": [],
   "source": [
    "# Allows access to yahoo finance api\n",
    "import yfinance as yf\n",
    "# Basic imports\n",
    "import pandas as pd\n",
    "import numpy as np\n",
    "# Allows for access to terminal notifications\n",
    "import os"
   ]
  },
  {
   "cell_type": "code",
   "execution_count": 2,
   "metadata": {},
   "outputs": [],
   "source": [
    "stock_info = yf.Ticker('TSLA').info"
   ]
  },
  {
   "cell_type": "code",
   "execution_count": 3,
   "metadata": {},
   "outputs": [
    {
     "name": "stdout",
     "output_type": "stream",
     "text": [
      "market price  758.87\n",
      "previous close price  764.04\n"
     ]
    }
   ],
   "source": [
    "market_price = stock_info['regularMarketPrice']\n",
    "previous_close_price = stock_info['regularMarketPreviousClose']\n",
    "print('market price ', market_price)\n",
    "print('previous close price ', previous_close_price)"
   ]
  },
  {
   "cell_type": "code",
   "execution_count": 2,
   "metadata": {},
   "outputs": [],
   "source": [
    "def get_stock_data(stock_list):\n",
    "    result = \"\"\n",
    "    # Get stock data\n",
    "    for i in stock_list:\n",
    "        stock_info = yf.Ticker(i).info\n",
    "        market_price = stock_info['regularMarketPrice']\n",
    "        result += i + ':' + str(market_price) + '  '\n",
    "    return result\n"
   ]
  },
  {
   "cell_type": "code",
   "execution_count": 3,
   "metadata": {},
   "outputs": [
    {
     "data": {
      "text/plain": [
       "'XOM:76.21  AAPL:156.41  MSFT:281.05  AAPL:156.195  TSLA:760.61  '"
      ]
     },
     "execution_count": 3,
     "metadata": {},
     "output_type": "execute_result"
    }
   ],
   "source": [
    "stock_list = ['XOM', 'AAPL', 'MSFT', 'TSLA']\n",
    "get_stock_data(stock_list)\n"
   ]
  },
  {
   "cell_type": "code",
   "execution_count": 7,
   "metadata": {},
   "outputs": [],
   "source": [
    "def notify(title, subtitle, message):\n",
    "    t = '-title {!r}'.format(title)\n",
    "    s = '-subtitle {!r}'.format(subtitle)\n",
    "    m = '-message {!r}'.format(message)\n",
    "    os.system('terminal-notifier {}'.format(' '.join([m, t, s])))"
   ]
  },
  {
   "cell_type": "code",
   "execution_count": 8,
   "metadata": {},
   "outputs": [],
   "source": [
    "# Calling the function\n",
    "notify(title='Daily Stock update',\n",
    "       subtitle='Live price of your stocks',\n",
    "       message=get_stock_data(stock_list))"
   ]
  },
  {
   "cell_type": "code",
   "execution_count": null,
   "metadata": {},
   "outputs": [],
   "source": []
  }
 ],
 "metadata": {
  "interpreter": {
   "hash": "45059a6eab3c785cd5b082d6e432f900bc40b8f219bccbac92bfd53083d1b4a8"
  },
  "kernelspec": {
   "display_name": "Python 3.7.4 ('base')",
   "language": "python",
   "name": "python3"
  },
  "language_info": {
   "codemirror_mode": {
    "name": "ipython",
    "version": 3
   },
   "file_extension": ".py",
   "mimetype": "text/x-python",
   "name": "python",
   "nbconvert_exporter": "python",
   "pygments_lexer": "ipython3",
   "version": "3.7.4"
  },
  "orig_nbformat": 4
 },
 "nbformat": 4,
 "nbformat_minor": 2
}
