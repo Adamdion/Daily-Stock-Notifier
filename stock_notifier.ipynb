{
 "cells": [
  {
   "cell_type": "markdown",
   "metadata": {},
   "source": [
    "# Daily Stock Notifier Code \n",
    "This notebook uses yfinance which pulls stock data from yahoo finance. It allows users to enter the stocks they are inteterested in by chaning the list to the ticker symbolys of their intrest. After running it pops up with a terminal notification of the live stock prices the user is interested in.\n",
    "\n",
    "This can be automated by turning it into a python script then turing it into a .app file using mac automator. With this app you can then make a calander event with the action being that it calls the script and it will run whenever that time is hit on your calander. More details on my github."
   ]
  },
  {
   "cell_type": "code",
   "execution_count": 6,
   "metadata": {},
   "outputs": [],
   "source": [
    "# Allows access to yahoo finance api\n",
    "import yfinance as yf\n",
    "# Basic imports\n",
    "import pandas as pd\n",
    "import numpy as np\n",
    "# Allows for access to terminal notifications\n",
    "import os"
   ]
  },
  {
   "cell_type": "code",
   "execution_count": 2,
   "metadata": {},
   "outputs": [],
   "source": [
    "# Basic call to yahoo finance api to get stock data\n",
    "stock_info = yf.Ticker('TSLA').info"
   ]
  },
  {
   "cell_type": "code",
   "execution_count": 3,
   "metadata": {},
   "outputs": [
    {
     "name": "stdout",
     "output_type": "stream",
     "text": [
      "market price  758.87\n",
      "previous close price  764.04\n"
     ]
    }
   ],
   "source": [
    "# Example for how we access the data for later\n",
    "market_price = stock_info['regularMarketPrice']\n",
    "previous_close_price = stock_info['regularMarketPreviousClose']\n",
    "print('market price ', market_price)\n",
    "print('previous close price ', previous_close_price)"
   ]
  },
  {
   "cell_type": "code",
   "execution_count": 10,
   "metadata": {},
   "outputs": [],
   "source": [
    "def get_stock_data(stock_list):\n",
    "    \"\"\"\n",
    "    Functino to pull and format live stock data \n",
    "    \n",
    "    Parameters:\n",
    "        stock_list (list): list of stock tickers\n",
    "    \"\"\"\n",
    "    result = \"\"\n",
    "    # Get stock data\n",
    "    for i in stock_list:\n",
    "        stock_info = yf.Ticker(i).info\n",
    "        market_price = stock_info['regularMarketPrice']\n",
    "        result += i + ':' + str(market_price) + '  '\n",
    "    return result\n"
   ]
  },
  {
   "cell_type": "code",
   "execution_count": 11,
   "metadata": {},
   "outputs": [],
   "source": [
    "def notify(title, subtitle, message):\n",
    "    \"\"\"\n",
    "    Functino to format and send terminal notifications\n",
    "\n",
    "    Parameters:\n",
    "        title (str): title of notification\n",
    "        subtitle (str): subtitle of notification\n",
    "        message (str): message of notification\n",
    "    \"\"\"\n",
    "    t = '-title {!r}'.format(title)\n",
    "    s = '-subtitle {!r}'.format(subtitle)\n",
    "    m = '-message {!r}'.format(message)\n",
    "    os.system('terminal-notifier {}'.format(' '.join([m, t, s])))"
   ]
  },
  {
   "cell_type": "code",
   "execution_count": 12,
   "metadata": {},
   "outputs": [],
   "source": [
    "# Enter the Ticker Symbols of the stocks you are interested in \n",
    "stock_list = ['TSLA', 'AAPL', 'AMZN', 'GOOGL', 'FB']"
   ]
  },
  {
   "cell_type": "code",
   "execution_count": 13,
   "metadata": {},
   "outputs": [],
   "source": [
    "# Calling the function (This might take a few minute)\n",
    "notify(title='Daily Stock update',\n",
    "       subtitle='Live price of your stocks',\n",
    "       message=get_stock_data(stock_list))"
   ]
  },
  {
   "cell_type": "code",
   "execution_count": null,
   "metadata": {},
   "outputs": [],
   "source": []
  }
 ],
 "metadata": {
  "interpreter": {
   "hash": "45059a6eab3c785cd5b082d6e432f900bc40b8f219bccbac92bfd53083d1b4a8"
  },
  "kernelspec": {
   "display_name": "Python 3.7.4 ('base')",
   "language": "python",
   "name": "python3"
  },
  "language_info": {
   "codemirror_mode": {
    "name": "ipython",
    "version": 3
   },
   "file_extension": ".py",
   "mimetype": "text/x-python",
   "name": "python",
   "nbconvert_exporter": "python",
   "pygments_lexer": "ipython3",
   "version": "3.7.4"
  },
  "orig_nbformat": 4
 },
 "nbformat": 4,
 "nbformat_minor": 2
}
